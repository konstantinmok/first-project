{
 "cells": [
  {
   "cell_type": "code",
   "execution_count": 2,
   "id": "bdae2069-41b2-4925-8789-af28aff16638",
   "metadata": {},
   "outputs": [
    {
     "name": "stdout",
     "output_type": "stream",
     "text": [
      "f\n"
     ]
    }
   ],
   "source": [
    "print ('f')"
   ]
  },
  {
   "cell_type": "code",
   "execution_count": null,
   "id": "9bd3648d-ec9f-461c-be1f-1c6ac2d9dc90",
   "metadata": {},
   "outputs": [],
   "source": [
    "print ('one more change')"
   ]
  }
 ],
 "metadata": {
  "kernelspec": {
   "display_name": "Python 3",
   "language": "python",
   "name": "python3"
  },
  "language_info": {
   "codemirror_mode": {
    "name": "ipython",
    "version": 3
   },
   "file_extension": ".py",
   "mimetype": "text/x-python",
   "name": "python",
   "nbconvert_exporter": "python",
   "pygments_lexer": "ipython3",
   "version": "3.8.8"
  }
 },
 "nbformat": 4,
 "nbformat_minor": 5
}
